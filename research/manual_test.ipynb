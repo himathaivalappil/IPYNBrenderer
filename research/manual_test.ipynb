{
 "cells": [
  {
   "cell_type": "code",
   "execution_count": 1,
   "metadata": {},
   "outputs": [
    {
     "data": {
      "text/plain": [
       "'twpO0KbJ28M'"
      ]
     },
     "execution_count": 1,
     "metadata": {},
     "output_type": "execute_result"
    }
   ],
   "source": [
    "URL1 = \"https://www.youtube.com/watch?v=twpO0KbJ28M\"\n",
    "URL1.split(\"=\")[-1]"
   ]
  },
  {
   "cell_type": "code",
   "execution_count": 2,
   "metadata": {},
   "outputs": [
    {
     "data": {
      "text/plain": [
       "'twpO0KbJ28M'"
      ]
     },
     "execution_count": 2,
     "metadata": {},
     "output_type": "execute_result"
    }
   ],
   "source": [
    "URL2 = \"https://youtu.be/twpO0KbJ28M\"\n",
    "URL2.split(\"/\")[-1]"
   ]
  },
  {
   "cell_type": "code",
   "execution_count": 3,
   "metadata": {},
   "outputs": [
    {
     "data": {
      "text/plain": [
       "['https://youtu.be/1-68pFs_HIE?t', '120']"
      ]
     },
     "execution_count": 3,
     "metadata": {},
     "output_type": "execute_result"
    }
   ],
   "source": [
    "URL3 = \"https://youtu.be/1-68pFs_HIE?t=120\"\n",
    "URL3.split(\"=\")"
   ]
  },
  {
   "cell_type": "code",
   "execution_count": 4,
   "metadata": {},
   "outputs": [
    {
     "data": {
      "text/plain": [
       "'1-68pFs_HIE'"
      ]
     },
     "execution_count": 4,
     "metadata": {},
     "output_type": "execute_result"
    }
   ],
   "source": [
    "URL3.split(\"=\")[0].split(\"/\")[-1][0:-2]"
   ]
  },
  {
   "cell_type": "code",
   "execution_count": 5,
   "metadata": {},
   "outputs": [
    {
     "data": {
      "text/plain": [
       "['https://www.youtube.com/watch?v',\n",
       " '1-68pFs_HIE&list',\n",
       " 'PLrdaCCBhU_hlLUujFA5KUjb3yathXilut&index',\n",
       " '4&t',\n",
       " '54s']"
      ]
     },
     "execution_count": 5,
     "metadata": {},
     "output_type": "execute_result"
    }
   ],
   "source": [
    "URL4 = \"https://www.youtube.com/watch?v=1-68pFs_HIE&list=PLrdaCCBhU_hlLUujFA5KUjb3yathXilut&index=4&t=54s\"\n",
    "URL4.split(\"=\")"
   ]
  },
  {
   "cell_type": "code",
   "execution_count": 6,
   "metadata": {},
   "outputs": [
    {
     "data": {
      "text/plain": [
       "'54'"
      ]
     },
     "execution_count": 6,
     "metadata": {},
     "output_type": "execute_result"
    }
   ],
   "source": [
    "URL4.split(\"=\")[-1][0:-1]"
   ]
  },
  {
   "cell_type": "code",
   "execution_count": 7,
   "metadata": {},
   "outputs": [
    {
     "data": {
      "text/plain": [
       "'1-68pFs_HIE'"
      ]
     },
     "execution_count": 7,
     "metadata": {},
     "output_type": "execute_result"
    }
   ],
   "source": [
    "URL4.split(\"=\")[1][0:11]"
   ]
  },
  {
   "cell_type": "code",
   "execution_count": 8,
   "metadata": {},
   "outputs": [],
   "source": [
    "from IPYNBrenderer import render_youtube_video"
   ]
  },
  {
   "cell_type": "code",
   "execution_count": 9,
   "metadata": {},
   "outputs": [
    {
     "name": "stdout",
     "output_type": "stream",
     "text": [
      "2\n",
      "[2022-10-25 14:47:07,726: INFO: youtube]: video starts at 0\n",
      "[2022-10-25 14:47:07,732: INFO: youtube]: embed URL: https://www.youtube.com/embed/twpO0KbJ28M?start=0\n"
     ]
    },
    {
     "data": {
      "text/html": [
       "<iframe \n",
       "            width=\"{width}\" height=\"{height}\" \n",
       "            src=\"https://www.youtube.com/embed/1-68pFs_HIE?start=717\" \n",
       "            title=\"YouTube video player\" frameborder=\"0\" \n",
       "            allow=\"accelerometer; autoplay; clipboard-write; \n",
       "            encrypted-media; gyroscope; picture-in-picture\" \n",
       "            allowfullscreen>\n",
       "            </iframe>\n",
       "            "
      ],
      "text/plain": [
       "<IPython.core.display.HTML object>"
      ]
     },
     "metadata": {},
     "output_type": "display_data"
    },
    {
     "data": {
      "text/plain": [
       "'Success!'"
      ]
     },
     "execution_count": 9,
     "metadata": {},
     "output_type": "execute_result"
    }
   ],
   "source": [
    "render_youtube_video(URL1)"
   ]
  },
  {
   "cell_type": "code",
   "execution_count": 10,
   "metadata": {},
   "outputs": [
    {
     "name": "stdout",
     "output_type": "stream",
     "text": [
      "5\n",
      "[2022-10-25 14:47:08,722: INFO: youtube]: video starts at 54\n",
      "[2022-10-25 14:47:08,723: INFO: youtube]: embed URL: https://www.youtube.com/embed/1-68pFs_HIE?start=54\n"
     ]
    },
    {
     "data": {
      "text/html": [
       "<iframe \n",
       "            width=\"{width}\" height=\"{height}\" \n",
       "            src=\"https://www.youtube.com/embed/1-68pFs_HIE?start=717\" \n",
       "            title=\"YouTube video player\" frameborder=\"0\" \n",
       "            allow=\"accelerometer; autoplay; clipboard-write; \n",
       "            encrypted-media; gyroscope; picture-in-picture\" \n",
       "            allowfullscreen>\n",
       "            </iframe>\n",
       "            "
      ],
      "text/plain": [
       "<IPython.core.display.HTML object>"
      ]
     },
     "metadata": {},
     "output_type": "display_data"
    },
    {
     "data": {
      "text/plain": [
       "'Success!'"
      ]
     },
     "execution_count": 10,
     "metadata": {},
     "output_type": "execute_result"
    }
   ],
   "source": [
    "render_youtube_video(URL4)"
   ]
  },
  {
   "cell_type": "code",
   "execution_count": 11,
   "metadata": {},
   "outputs": [
    {
     "name": "stdout",
     "output_type": "stream",
     "text": [
      "2\n",
      "[2022-10-25 14:47:09,910: INFO: youtube]: video starts at 120\n",
      "[2022-10-25 14:47:09,911: INFO: youtube]: embed URL: https://www.youtube.com/embed/1-68pFs_HIE?start=120\n"
     ]
    },
    {
     "data": {
      "text/html": [
       "<iframe \n",
       "            width=\"{width}\" height=\"{height}\" \n",
       "            src=\"https://www.youtube.com/embed/1-68pFs_HIE?start=717\" \n",
       "            title=\"YouTube video player\" frameborder=\"0\" \n",
       "            allow=\"accelerometer; autoplay; clipboard-write; \n",
       "            encrypted-media; gyroscope; picture-in-picture\" \n",
       "            allowfullscreen>\n",
       "            </iframe>\n",
       "            "
      ],
      "text/plain": [
       "<IPython.core.display.HTML object>"
      ]
     },
     "metadata": {},
     "output_type": "display_data"
    },
    {
     "data": {
      "text/plain": [
       "'Success!'"
      ]
     },
     "execution_count": 11,
     "metadata": {},
     "output_type": "execute_result"
    }
   ],
   "source": [
    "render_youtube_video(URL3)"
   ]
  },
  {
   "cell_type": "code",
   "execution_count": 12,
   "metadata": {},
   "outputs": [
    {
     "name": "stdout",
     "output_type": "stream",
     "text": [
      "1\n",
      "[2022-10-25 14:47:11,256: INFO: youtube]: video starts at 0\n",
      "[2022-10-25 14:47:11,256: INFO: youtube]: embed URL: https://www.youtube.com/embed/twpO0KbJ28M?start=0\n"
     ]
    },
    {
     "data": {
      "text/html": [
       "<iframe \n",
       "            width=\"{width}\" height=\"{height}\" \n",
       "            src=\"https://www.youtube.com/embed/1-68pFs_HIE?start=717\" \n",
       "            title=\"YouTube video player\" frameborder=\"0\" \n",
       "            allow=\"accelerometer; autoplay; clipboard-write; \n",
       "            encrypted-media; gyroscope; picture-in-picture\" \n",
       "            allowfullscreen>\n",
       "            </iframe>\n",
       "            "
      ],
      "text/plain": [
       "<IPython.core.display.HTML object>"
      ]
     },
     "metadata": {},
     "output_type": "display_data"
    },
    {
     "data": {
      "text/plain": [
       "'Success!'"
      ]
     },
     "execution_count": 12,
     "metadata": {},
     "output_type": "execute_result"
    }
   ],
   "source": [
    "render_youtube_video(URL2)"
   ]
  },
  {
   "cell_type": "code",
   "execution_count": null,
   "metadata": {},
   "outputs": [],
   "source": []
  }
 ],
 "metadata": {
  "kernelspec": {
   "display_name": "Python 3.8.13",
   "language": "python",
   "name": "python3"
  },
  "language_info": {
   "codemirror_mode": {
    "name": "ipython",
    "version": 3
   },
   "file_extension": ".py",
   "mimetype": "text/x-python",
   "name": "python",
   "nbconvert_exporter": "python",
   "pygments_lexer": "ipython3",
   "version": "3.8.13"
  },
  "orig_nbformat": 4,
  "vscode": {
   "interpreter": {
    "hash": "4cddc3cebcf8be3c20927100cd6f198c1521bc3c168a529dc7286cfa1a09b5ba"
   }
  }
 },
 "nbformat": 4,
 "nbformat_minor": 2
}
